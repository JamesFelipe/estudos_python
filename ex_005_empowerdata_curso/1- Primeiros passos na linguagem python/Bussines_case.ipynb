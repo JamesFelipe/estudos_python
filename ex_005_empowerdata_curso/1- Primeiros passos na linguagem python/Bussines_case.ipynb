{
  "cells": [
    {
      "cell_type": "markdown",
      "metadata": {
        "id": "hEWOsgVoCCE_"
      },
      "source": [
        "* Você deve criar um pequeno script para gerar um pdf com todos os dados e o imc já calculado de forma automática"
      ]
    },
    {
      "cell_type": "code",
      "execution_count": 10,
      "metadata": {
        "colab": {
          "base_uri": "https://localhost:8080/"
        },
        "id": "PbAqFwsxBuWO",
        "outputId": "16d94b25-1d11-40bb-d152-1c0d21234a4a"
      },
      "outputs": [],
      "source": [
        "# Pegando as informações\n",
        "nome = input('Digite o nome: ')\n",
        "idade = int(input('Digite a idade: '))\n",
        "peso = float(input('Digite o peso:'))\n",
        "altura = float(input('Digite sua altura: '))\n",
        "imc = peso / (altura * altura)\n"
      ]
    },
    {
      "cell_type": "code",
      "execution_count": 11,
      "metadata": {
        "id": "vaP3XMwtfpr6"
      },
      "outputs": [
        {
          "name": "stdout",
          "output_type": "stream",
          "text": [
            "dentro do peso\n"
          ]
        }
      ],
      "source": [
        "# testando o imc\n",
        "status = 'dentro do peso'\n",
        "if float(imc) > 25:\n",
        "  status = 'sobrepeso'\n",
        "print(status)\n"
      ]
    },
    {
      "cell_type": "code",
      "execution_count": 12,
      "metadata": {
        "id": "pv1iFR2dGSVN"
      },
      "outputs": [],
      "source": [
        "# Convertendo todos os valores númericos para string\n",
        "idade = f'Idade: {str(idade)}'\n",
        "peso = f'Peso: {str(peso)}'\n",
        "altura = f'Altura: {str(altura)}'\n",
        "imc = f'IMC: {str(imc)}'\n"
      ]
    },
    {
      "cell_type": "code",
      "execution_count": 13,
      "metadata": {
        "colab": {
          "base_uri": "https://localhost:8080/",
          "height": 36
        },
        "id": "VPlyI4wpDs3t",
        "outputId": "f6ea0c2e-89db-47ee-eb65-ede378e7a15b"
      },
      "outputs": [
        {
          "data": {
            "text/plain": [
              "''"
            ]
          },
          "execution_count": 13,
          "metadata": {},
          "output_type": "execute_result"
        }
      ],
      "source": [
        "# importando o fpdf\n",
        "from fpdf import FPDF\n",
        "\n",
        "# Ativando o fpdf\n",
        "pdf = FPDF()\n",
        "\n",
        "# Adicionando página\n",
        "pdf.add_page()\n",
        "\n",
        "# Selecionando fonte\n",
        "pdf.set_font(\"Arial\")\n",
        "\n",
        "# Escrevendo os dados para o pdf\n",
        "pdf.text(10, 15, str(nome))\n",
        "pdf.text(10, 30, str(idade))\n",
        "pdf.text(10, 45, str(peso))\n",
        "pdf.text(10, 60, str(altura))\n",
        "pdf.text(10, 75, str(imc))\n",
        "\n",
        "# arquivo de saída\n",
        "pdf.output(\"dados.pdf\")\n"
      ]
    }
  ],
  "metadata": {
    "colab": {
      "provenance": []
    },
    "kernelspec": {
      "display_name": "Python 3",
      "name": "python3"
    },
    "language_info": {
      "codemirror_mode": {
        "name": "ipython",
        "version": 3
      },
      "file_extension": ".py",
      "mimetype": "text/x-python",
      "name": "python",
      "nbconvert_exporter": "python",
      "pygments_lexer": "ipython3",
      "version": "3.11.3"
    }
  },
  "nbformat": 4,
  "nbformat_minor": 0
}
